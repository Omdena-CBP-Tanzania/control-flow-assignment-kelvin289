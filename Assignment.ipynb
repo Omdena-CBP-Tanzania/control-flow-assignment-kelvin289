{
 "cells": [
  {
   "cell_type": "markdown",
   "id": "830853e8-5435-44f2-bb70-7c06a15fdfb2",
   "metadata": {},
   "source": [
    "Part 1:looping constructs"
   ]
  },
  {
   "cell_type": "markdown",
   "id": "b68cc364-da3e-4e00-9b57-c603c8d8dead",
   "metadata": {},
   "source": [
    "Task 1: While loop"
   ]
  },
  {
   "cell_type": "code",
   "execution_count": 1,
   "id": "27d46967-3da0-4a7c-8b81-79574c9af058",
   "metadata": {},
   "outputs": [
    {
     "name": "stdout",
     "output_type": "stream",
     "text": [
      "0\n",
      "2\n",
      "4\n",
      "6\n",
      "8\n",
      "10\n",
      "12\n",
      "14\n",
      "16\n"
     ]
    }
   ],
   "source": [
    "# Task 1: while loop\n",
    "number = 0\n",
    "while number <= 20:\n",
    "    if number % 2 == 0:\n",
    "        print(number)\n",
    "    if number == 16:\n",
    "        break\n",
    "    number += 1\n",
    "    pass"
   ]
  },
  {
   "cell_type": "markdown",
   "id": "9b2b8f19-8250-40a6-a6f2-acb9c7cd6504",
   "metadata": {},
   "source": [
    "Task2: for loop"
   ]
  },
  {
   "cell_type": "code",
   "execution_count": 10,
   "id": "6c2362dd-fd6d-4ba7-b523-a64f0f72a988",
   "metadata": {},
   "outputs": [
    {
     "name": "stdout",
     "output_type": "stream",
     "text": [
      "1\n",
      "2\n",
      "4\n",
      "5\n",
      "7\n",
      "8\n",
      "10\n",
      "11\n",
      "13\n",
      "14\n"
     ]
    }
   ],
   "source": [
    "# Task 2: for loop with continue\n",
    "for num in range(1, 16):\n",
    "    if num % 3 == 0:\n",
    "        continue\n",
    "    print(num)\n",
    "    pass"
   ]
  },
  {
   "cell_type": "markdown",
   "id": "cc8167ca-9cfd-4559-9ad0-3fa9aa5f754d",
   "metadata": {},
   "source": [
    "Task3:If-else statement"
   ]
  },
  {
   "cell_type": "code",
   "execution_count": 6,
   "id": "c5fcf996-c497-4cf8-a838-46492ac17fe3",
   "metadata": {},
   "outputs": [
    {
     "name": "stdin",
     "output_type": "stream",
     "text": [
      "Enter a number:  0\n"
     ]
    },
    {
     "name": "stdout",
     "output_type": "stream",
     "text": [
      "The number is zero.\n"
     ]
    }
   ],
   "source": [
    "# Task 3: if-else statement\n",
    "number = int(input(\"Enter a number: \"))\n",
    "if number > 0:\n",
    "    print(\"The number is positive.\")\n",
    "elif number < 0:\n",
    "    print(\"The number is negative.\")\n",
    "else:\n",
    "    print(\"The number is zero.\")"
   ]
  },
  {
   "cell_type": "markdown",
   "id": "92429a30-c1f6-48fc-81f7-f28f0d5e9889",
   "metadata": {},
   "source": [
    "Task4:Nested loop"
   ]
  },
  {
   "cell_type": "code",
   "execution_count": 9,
   "id": "3aba558b-12a2-4c69-812b-5a2b51ab61d9",
   "metadata": {},
   "outputs": [
    {
     "name": "stdout",
     "output_type": "stream",
     "text": [
      "Multiplication table for 1\n",
      "-------------------------\n",
      "1 x 1 = 1\n",
      "1 x 2 = 2\n",
      "1 x 3 = 3\n",
      "1 x 4 = 4\n",
      "1 x 5 = 5\n",
      "\n",
      "\n",
      "Multiplication table for 2\n",
      "-------------------------\n",
      "2 x 1 = 2\n",
      "2 x 2 = 4\n",
      "2 x 3 = 6\n",
      "2 x 4 = 8\n",
      "2 x 5 = 10\n",
      "\n",
      "\n",
      "Multiplication table for 3\n",
      "-------------------------\n",
      "3 x 1 = 3\n",
      "3 x 2 = 6\n",
      "3 x 3 = 9\n",
      "3 x 4 = 12\n",
      "3 x 5 = 15\n",
      "\n",
      "\n",
      "Multiplication table for 4\n",
      "-------------------------\n",
      "4 x 1 = 4\n",
      "4 x 2 = 8\n",
      "4 x 3 = 12\n",
      "4 x 4 = 16\n",
      "4 x 5 = 20\n",
      "\n",
      "\n",
      "Multiplication table for 5\n",
      "-------------------------\n",
      "5 x 1 = 5\n",
      "5 x 2 = 10\n",
      "5 x 3 = 15\n",
      "5 x 4 = 20\n",
      "5 x 5 = 25\n",
      "\n",
      "\n"
     ]
    }
   ],
   "source": [
    "# Task 4: Nested loops\n",
    "for i in range(1, 6):\n",
    "    print(f\"Multiplication table for {i}\")\n",
    "    print(\"-\" * 25)\n",
    "    \n",
    "    for j in range(1, 6):\n",
    "        product = i * j\n",
    "        print(f\"{i} x {j} = {product}\")\n",
    "    print(\"\\n\")\n",
    "        "
   ]
  },
  {
   "cell_type": "code",
   "execution_count": null,
   "id": "40273841-e510-41f3-bb9e-01cc2604a8e7",
   "metadata": {},
   "outputs": [],
   "source": []
  }
 ],
 "metadata": {
  "kernelspec": {
   "display_name": "Python 3 (ipykernel)",
   "language": "python",
   "name": "python3"
  },
  "language_info": {
   "codemirror_mode": {
    "name": "ipython",
    "version": 3
   },
   "file_extension": ".py",
   "mimetype": "text/x-python",
   "name": "python",
   "nbconvert_exporter": "python",
   "pygments_lexer": "ipython3",
   "version": "3.12.7"
  }
 },
 "nbformat": 4,
 "nbformat_minor": 5
}
